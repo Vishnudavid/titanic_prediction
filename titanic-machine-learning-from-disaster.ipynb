{
 "cells": [
  {
   "cell_type": "code",
   "execution_count": 1,
   "id": "4d1ab437",
   "metadata": {
    "execution": {
     "iopub.execute_input": "2022-05-30T05:22:58.294251Z",
     "iopub.status.busy": "2022-05-30T05:22:58.293507Z",
     "iopub.status.idle": "2022-05-30T05:22:59.459039Z",
     "shell.execute_reply": "2022-05-30T05:22:59.458017Z"
    },
    "papermill": {
     "duration": 1.180656,
     "end_time": "2022-05-30T05:22:59.462075",
     "exception": false,
     "start_time": "2022-05-30T05:22:58.281419",
     "status": "completed"
    },
    "tags": []
   },
   "outputs": [],
   "source": [
    "import pandas as pd\n",
    "import matplotlib.pyplot as plt\n",
    "import seaborn as sns\n"
   ]
  },
  {
   "cell_type": "code",
   "execution_count": 2,
   "id": "8b0a26a7",
   "metadata": {
    "execution": {
     "iopub.execute_input": "2022-05-30T05:22:59.482558Z",
     "iopub.status.busy": "2022-05-30T05:22:59.481949Z",
     "iopub.status.idle": "2022-05-30T05:22:59.522066Z",
     "shell.execute_reply": "2022-05-30T05:22:59.520909Z"
    },
    "papermill": {
     "duration": 0.053408,
     "end_time": "2022-05-30T05:22:59.525177",
     "exception": false,
     "start_time": "2022-05-30T05:22:59.471769",
     "status": "completed"
    },
    "tags": []
   },
   "outputs": [
    {
     "data": {
      "text/html": [
       "<div>\n",
       "<style scoped>\n",
       "    .dataframe tbody tr th:only-of-type {\n",
       "        vertical-align: middle;\n",
       "    }\n",
       "\n",
       "    .dataframe tbody tr th {\n",
       "        vertical-align: top;\n",
       "    }\n",
       "\n",
       "    .dataframe thead th {\n",
       "        text-align: right;\n",
       "    }\n",
       "</style>\n",
       "<table border=\"1\" class=\"dataframe\">\n",
       "  <thead>\n",
       "    <tr style=\"text-align: right;\">\n",
       "      <th></th>\n",
       "      <th>PassengerId</th>\n",
       "      <th>Survived</th>\n",
       "      <th>Pclass</th>\n",
       "      <th>Name</th>\n",
       "      <th>Sex</th>\n",
       "      <th>Age</th>\n",
       "      <th>SibSp</th>\n",
       "      <th>Parch</th>\n",
       "      <th>Ticket</th>\n",
       "      <th>Fare</th>\n",
       "      <th>Cabin</th>\n",
       "      <th>Embarked</th>\n",
       "    </tr>\n",
       "  </thead>\n",
       "  <tbody>\n",
       "    <tr>\n",
       "      <th>0</th>\n",
       "      <td>1</td>\n",
       "      <td>0</td>\n",
       "      <td>3</td>\n",
       "      <td>Braund, Mr. Owen Harris</td>\n",
       "      <td>male</td>\n",
       "      <td>22.0</td>\n",
       "      <td>1</td>\n",
       "      <td>0</td>\n",
       "      <td>A/5 21171</td>\n",
       "      <td>7.2500</td>\n",
       "      <td>NaN</td>\n",
       "      <td>S</td>\n",
       "    </tr>\n",
       "    <tr>\n",
       "      <th>1</th>\n",
       "      <td>2</td>\n",
       "      <td>1</td>\n",
       "      <td>1</td>\n",
       "      <td>Cumings, Mrs. John Bradley (Florence Briggs Th...</td>\n",
       "      <td>female</td>\n",
       "      <td>38.0</td>\n",
       "      <td>1</td>\n",
       "      <td>0</td>\n",
       "      <td>PC 17599</td>\n",
       "      <td>71.2833</td>\n",
       "      <td>C85</td>\n",
       "      <td>C</td>\n",
       "    </tr>\n",
       "    <tr>\n",
       "      <th>2</th>\n",
       "      <td>3</td>\n",
       "      <td>1</td>\n",
       "      <td>3</td>\n",
       "      <td>Heikkinen, Miss. Laina</td>\n",
       "      <td>female</td>\n",
       "      <td>26.0</td>\n",
       "      <td>0</td>\n",
       "      <td>0</td>\n",
       "      <td>STON/O2. 3101282</td>\n",
       "      <td>7.9250</td>\n",
       "      <td>NaN</td>\n",
       "      <td>S</td>\n",
       "    </tr>\n",
       "    <tr>\n",
       "      <th>3</th>\n",
       "      <td>4</td>\n",
       "      <td>1</td>\n",
       "      <td>1</td>\n",
       "      <td>Futrelle, Mrs. Jacques Heath (Lily May Peel)</td>\n",
       "      <td>female</td>\n",
       "      <td>35.0</td>\n",
       "      <td>1</td>\n",
       "      <td>0</td>\n",
       "      <td>113803</td>\n",
       "      <td>53.1000</td>\n",
       "      <td>C123</td>\n",
       "      <td>S</td>\n",
       "    </tr>\n",
       "    <tr>\n",
       "      <th>4</th>\n",
       "      <td>5</td>\n",
       "      <td>0</td>\n",
       "      <td>3</td>\n",
       "      <td>Allen, Mr. William Henry</td>\n",
       "      <td>male</td>\n",
       "      <td>35.0</td>\n",
       "      <td>0</td>\n",
       "      <td>0</td>\n",
       "      <td>373450</td>\n",
       "      <td>8.0500</td>\n",
       "      <td>NaN</td>\n",
       "      <td>S</td>\n",
       "    </tr>\n",
       "    <tr>\n",
       "      <th>5</th>\n",
       "      <td>6</td>\n",
       "      <td>0</td>\n",
       "      <td>3</td>\n",
       "      <td>Moran, Mr. James</td>\n",
       "      <td>male</td>\n",
       "      <td>NaN</td>\n",
       "      <td>0</td>\n",
       "      <td>0</td>\n",
       "      <td>330877</td>\n",
       "      <td>8.4583</td>\n",
       "      <td>NaN</td>\n",
       "      <td>Q</td>\n",
       "    </tr>\n",
       "    <tr>\n",
       "      <th>6</th>\n",
       "      <td>7</td>\n",
       "      <td>0</td>\n",
       "      <td>1</td>\n",
       "      <td>McCarthy, Mr. Timothy J</td>\n",
       "      <td>male</td>\n",
       "      <td>54.0</td>\n",
       "      <td>0</td>\n",
       "      <td>0</td>\n",
       "      <td>17463</td>\n",
       "      <td>51.8625</td>\n",
       "      <td>E46</td>\n",
       "      <td>S</td>\n",
       "    </tr>\n",
       "    <tr>\n",
       "      <th>7</th>\n",
       "      <td>8</td>\n",
       "      <td>0</td>\n",
       "      <td>3</td>\n",
       "      <td>Palsson, Master. Gosta Leonard</td>\n",
       "      <td>male</td>\n",
       "      <td>2.0</td>\n",
       "      <td>3</td>\n",
       "      <td>1</td>\n",
       "      <td>349909</td>\n",
       "      <td>21.0750</td>\n",
       "      <td>NaN</td>\n",
       "      <td>S</td>\n",
       "    </tr>\n",
       "    <tr>\n",
       "      <th>8</th>\n",
       "      <td>9</td>\n",
       "      <td>1</td>\n",
       "      <td>3</td>\n",
       "      <td>Johnson, Mrs. Oscar W (Elisabeth Vilhelmina Berg)</td>\n",
       "      <td>female</td>\n",
       "      <td>27.0</td>\n",
       "      <td>0</td>\n",
       "      <td>2</td>\n",
       "      <td>347742</td>\n",
       "      <td>11.1333</td>\n",
       "      <td>NaN</td>\n",
       "      <td>S</td>\n",
       "    </tr>\n",
       "    <tr>\n",
       "      <th>9</th>\n",
       "      <td>10</td>\n",
       "      <td>1</td>\n",
       "      <td>2</td>\n",
       "      <td>Nasser, Mrs. Nicholas (Adele Achem)</td>\n",
       "      <td>female</td>\n",
       "      <td>14.0</td>\n",
       "      <td>1</td>\n",
       "      <td>0</td>\n",
       "      <td>237736</td>\n",
       "      <td>30.0708</td>\n",
       "      <td>NaN</td>\n",
       "      <td>C</td>\n",
       "    </tr>\n",
       "  </tbody>\n",
       "</table>\n",
       "</div>"
      ],
      "text/plain": [
       "   PassengerId  Survived  Pclass  \\\n",
       "0            1         0       3   \n",
       "1            2         1       1   \n",
       "2            3         1       3   \n",
       "3            4         1       1   \n",
       "4            5         0       3   \n",
       "5            6         0       3   \n",
       "6            7         0       1   \n",
       "7            8         0       3   \n",
       "8            9         1       3   \n",
       "9           10         1       2   \n",
       "\n",
       "                                                Name     Sex   Age  SibSp  \\\n",
       "0                            Braund, Mr. Owen Harris    male  22.0      1   \n",
       "1  Cumings, Mrs. John Bradley (Florence Briggs Th...  female  38.0      1   \n",
       "2                             Heikkinen, Miss. Laina  female  26.0      0   \n",
       "3       Futrelle, Mrs. Jacques Heath (Lily May Peel)  female  35.0      1   \n",
       "4                           Allen, Mr. William Henry    male  35.0      0   \n",
       "5                                   Moran, Mr. James    male   NaN      0   \n",
       "6                            McCarthy, Mr. Timothy J    male  54.0      0   \n",
       "7                     Palsson, Master. Gosta Leonard    male   2.0      3   \n",
       "8  Johnson, Mrs. Oscar W (Elisabeth Vilhelmina Berg)  female  27.0      0   \n",
       "9                Nasser, Mrs. Nicholas (Adele Achem)  female  14.0      1   \n",
       "\n",
       "   Parch            Ticket     Fare Cabin Embarked  \n",
       "0      0         A/5 21171   7.2500   NaN        S  \n",
       "1      0          PC 17599  71.2833   C85        C  \n",
       "2      0  STON/O2. 3101282   7.9250   NaN        S  \n",
       "3      0            113803  53.1000  C123        S  \n",
       "4      0            373450   8.0500   NaN        S  \n",
       "5      0            330877   8.4583   NaN        Q  \n",
       "6      0             17463  51.8625   E46        S  \n",
       "7      1            349909  21.0750   NaN        S  \n",
       "8      2            347742  11.1333   NaN        S  \n",
       "9      0            237736  30.0708   NaN        C  "
      ]
     },
     "execution_count": 2,
     "metadata": {},
     "output_type": "execute_result"
    }
   ],
   "source": [
    "train_data=pd.read_csv('../input/titanic/train.csv')\n",
    "train_data.head(10)"
   ]
  },
  {
   "cell_type": "code",
   "execution_count": 3,
   "id": "17a292f0",
   "metadata": {
    "execution": {
     "iopub.execute_input": "2022-05-30T05:22:59.546030Z",
     "iopub.status.busy": "2022-05-30T05:22:59.545077Z",
     "iopub.status.idle": "2022-05-30T05:22:59.571296Z",
     "shell.execute_reply": "2022-05-30T05:22:59.570333Z"
    },
    "papermill": {
     "duration": 0.038919,
     "end_time": "2022-05-30T05:22:59.573648",
     "exception": false,
     "start_time": "2022-05-30T05:22:59.534729",
     "status": "completed"
    },
    "tags": []
   },
   "outputs": [
    {
     "data": {
      "text/html": [
       "<div>\n",
       "<style scoped>\n",
       "    .dataframe tbody tr th:only-of-type {\n",
       "        vertical-align: middle;\n",
       "    }\n",
       "\n",
       "    .dataframe tbody tr th {\n",
       "        vertical-align: top;\n",
       "    }\n",
       "\n",
       "    .dataframe thead th {\n",
       "        text-align: right;\n",
       "    }\n",
       "</style>\n",
       "<table border=\"1\" class=\"dataframe\">\n",
       "  <thead>\n",
       "    <tr style=\"text-align: right;\">\n",
       "      <th></th>\n",
       "      <th>PassengerId</th>\n",
       "      <th>Pclass</th>\n",
       "      <th>Name</th>\n",
       "      <th>Sex</th>\n",
       "      <th>Age</th>\n",
       "      <th>SibSp</th>\n",
       "      <th>Parch</th>\n",
       "      <th>Ticket</th>\n",
       "      <th>Fare</th>\n",
       "      <th>Cabin</th>\n",
       "      <th>Embarked</th>\n",
       "    </tr>\n",
       "  </thead>\n",
       "  <tbody>\n",
       "    <tr>\n",
       "      <th>0</th>\n",
       "      <td>892</td>\n",
       "      <td>3</td>\n",
       "      <td>Kelly, Mr. James</td>\n",
       "      <td>male</td>\n",
       "      <td>34.5</td>\n",
       "      <td>0</td>\n",
       "      <td>0</td>\n",
       "      <td>330911</td>\n",
       "      <td>7.8292</td>\n",
       "      <td>NaN</td>\n",
       "      <td>Q</td>\n",
       "    </tr>\n",
       "    <tr>\n",
       "      <th>1</th>\n",
       "      <td>893</td>\n",
       "      <td>3</td>\n",
       "      <td>Wilkes, Mrs. James (Ellen Needs)</td>\n",
       "      <td>female</td>\n",
       "      <td>47.0</td>\n",
       "      <td>1</td>\n",
       "      <td>0</td>\n",
       "      <td>363272</td>\n",
       "      <td>7.0000</td>\n",
       "      <td>NaN</td>\n",
       "      <td>S</td>\n",
       "    </tr>\n",
       "    <tr>\n",
       "      <th>2</th>\n",
       "      <td>894</td>\n",
       "      <td>2</td>\n",
       "      <td>Myles, Mr. Thomas Francis</td>\n",
       "      <td>male</td>\n",
       "      <td>62.0</td>\n",
       "      <td>0</td>\n",
       "      <td>0</td>\n",
       "      <td>240276</td>\n",
       "      <td>9.6875</td>\n",
       "      <td>NaN</td>\n",
       "      <td>Q</td>\n",
       "    </tr>\n",
       "    <tr>\n",
       "      <th>3</th>\n",
       "      <td>895</td>\n",
       "      <td>3</td>\n",
       "      <td>Wirz, Mr. Albert</td>\n",
       "      <td>male</td>\n",
       "      <td>27.0</td>\n",
       "      <td>0</td>\n",
       "      <td>0</td>\n",
       "      <td>315154</td>\n",
       "      <td>8.6625</td>\n",
       "      <td>NaN</td>\n",
       "      <td>S</td>\n",
       "    </tr>\n",
       "    <tr>\n",
       "      <th>4</th>\n",
       "      <td>896</td>\n",
       "      <td>3</td>\n",
       "      <td>Hirvonen, Mrs. Alexander (Helga E Lindqvist)</td>\n",
       "      <td>female</td>\n",
       "      <td>22.0</td>\n",
       "      <td>1</td>\n",
       "      <td>1</td>\n",
       "      <td>3101298</td>\n",
       "      <td>12.2875</td>\n",
       "      <td>NaN</td>\n",
       "      <td>S</td>\n",
       "    </tr>\n",
       "    <tr>\n",
       "      <th>5</th>\n",
       "      <td>897</td>\n",
       "      <td>3</td>\n",
       "      <td>Svensson, Mr. Johan Cervin</td>\n",
       "      <td>male</td>\n",
       "      <td>14.0</td>\n",
       "      <td>0</td>\n",
       "      <td>0</td>\n",
       "      <td>7538</td>\n",
       "      <td>9.2250</td>\n",
       "      <td>NaN</td>\n",
       "      <td>S</td>\n",
       "    </tr>\n",
       "    <tr>\n",
       "      <th>6</th>\n",
       "      <td>898</td>\n",
       "      <td>3</td>\n",
       "      <td>Connolly, Miss. Kate</td>\n",
       "      <td>female</td>\n",
       "      <td>30.0</td>\n",
       "      <td>0</td>\n",
       "      <td>0</td>\n",
       "      <td>330972</td>\n",
       "      <td>7.6292</td>\n",
       "      <td>NaN</td>\n",
       "      <td>Q</td>\n",
       "    </tr>\n",
       "    <tr>\n",
       "      <th>7</th>\n",
       "      <td>899</td>\n",
       "      <td>2</td>\n",
       "      <td>Caldwell, Mr. Albert Francis</td>\n",
       "      <td>male</td>\n",
       "      <td>26.0</td>\n",
       "      <td>1</td>\n",
       "      <td>1</td>\n",
       "      <td>248738</td>\n",
       "      <td>29.0000</td>\n",
       "      <td>NaN</td>\n",
       "      <td>S</td>\n",
       "    </tr>\n",
       "    <tr>\n",
       "      <th>8</th>\n",
       "      <td>900</td>\n",
       "      <td>3</td>\n",
       "      <td>Abrahim, Mrs. Joseph (Sophie Halaut Easu)</td>\n",
       "      <td>female</td>\n",
       "      <td>18.0</td>\n",
       "      <td>0</td>\n",
       "      <td>0</td>\n",
       "      <td>2657</td>\n",
       "      <td>7.2292</td>\n",
       "      <td>NaN</td>\n",
       "      <td>C</td>\n",
       "    </tr>\n",
       "    <tr>\n",
       "      <th>9</th>\n",
       "      <td>901</td>\n",
       "      <td>3</td>\n",
       "      <td>Davies, Mr. John Samuel</td>\n",
       "      <td>male</td>\n",
       "      <td>21.0</td>\n",
       "      <td>2</td>\n",
       "      <td>0</td>\n",
       "      <td>A/4 48871</td>\n",
       "      <td>24.1500</td>\n",
       "      <td>NaN</td>\n",
       "      <td>S</td>\n",
       "    </tr>\n",
       "  </tbody>\n",
       "</table>\n",
       "</div>"
      ],
      "text/plain": [
       "   PassengerId  Pclass                                          Name     Sex  \\\n",
       "0          892       3                              Kelly, Mr. James    male   \n",
       "1          893       3              Wilkes, Mrs. James (Ellen Needs)  female   \n",
       "2          894       2                     Myles, Mr. Thomas Francis    male   \n",
       "3          895       3                              Wirz, Mr. Albert    male   \n",
       "4          896       3  Hirvonen, Mrs. Alexander (Helga E Lindqvist)  female   \n",
       "5          897       3                    Svensson, Mr. Johan Cervin    male   \n",
       "6          898       3                          Connolly, Miss. Kate  female   \n",
       "7          899       2                  Caldwell, Mr. Albert Francis    male   \n",
       "8          900       3     Abrahim, Mrs. Joseph (Sophie Halaut Easu)  female   \n",
       "9          901       3                       Davies, Mr. John Samuel    male   \n",
       "\n",
       "    Age  SibSp  Parch     Ticket     Fare Cabin Embarked  \n",
       "0  34.5      0      0     330911   7.8292   NaN        Q  \n",
       "1  47.0      1      0     363272   7.0000   NaN        S  \n",
       "2  62.0      0      0     240276   9.6875   NaN        Q  \n",
       "3  27.0      0      0     315154   8.6625   NaN        S  \n",
       "4  22.0      1      1    3101298  12.2875   NaN        S  \n",
       "5  14.0      0      0       7538   9.2250   NaN        S  \n",
       "6  30.0      0      0     330972   7.6292   NaN        Q  \n",
       "7  26.0      1      1     248738  29.0000   NaN        S  \n",
       "8  18.0      0      0       2657   7.2292   NaN        C  \n",
       "9  21.0      2      0  A/4 48871  24.1500   NaN        S  "
      ]
     },
     "execution_count": 3,
     "metadata": {},
     "output_type": "execute_result"
    }
   ],
   "source": [
    "test_data=pd.read_csv('../input/titanic/test.csv')\n",
    "test_data.head(10)"
   ]
  },
  {
   "cell_type": "code",
   "execution_count": 4,
   "id": "b65bc5fb",
   "metadata": {
    "execution": {
     "iopub.execute_input": "2022-05-30T05:22:59.595229Z",
     "iopub.status.busy": "2022-05-30T05:22:59.594285Z",
     "iopub.status.idle": "2022-05-30T05:22:59.600923Z",
     "shell.execute_reply": "2022-05-30T05:22:59.600179Z"
    },
    "papermill": {
     "duration": 0.019439,
     "end_time": "2022-05-30T05:22:59.602842",
     "exception": false,
     "start_time": "2022-05-30T05:22:59.583403",
     "status": "completed"
    },
    "tags": []
   },
   "outputs": [
    {
     "data": {
      "text/plain": [
       "(891, 12)"
      ]
     },
     "execution_count": 4,
     "metadata": {},
     "output_type": "execute_result"
    }
   ],
   "source": [
    "train_data.shape"
   ]
  },
  {
   "cell_type": "code",
   "execution_count": 5,
   "id": "9932fc59",
   "metadata": {
    "execution": {
     "iopub.execute_input": "2022-05-30T05:22:59.624436Z",
     "iopub.status.busy": "2022-05-30T05:22:59.623702Z",
     "iopub.status.idle": "2022-05-30T05:22:59.636819Z",
     "shell.execute_reply": "2022-05-30T05:22:59.635765Z"
    },
    "papermill": {
     "duration": 0.026524,
     "end_time": "2022-05-30T05:22:59.638945",
     "exception": false,
     "start_time": "2022-05-30T05:22:59.612421",
     "status": "completed"
    },
    "tags": []
   },
   "outputs": [
    {
     "data": {
      "text/plain": [
       "0    549\n",
       "1    342\n",
       "Name: Survived, dtype: int64"
      ]
     },
     "execution_count": 5,
     "metadata": {},
     "output_type": "execute_result"
    }
   ],
   "source": [
    "train_data['Survived'].value_counts()"
   ]
  },
  {
   "cell_type": "code",
   "execution_count": 6,
   "id": "55ad5f99",
   "metadata": {
    "execution": {
     "iopub.execute_input": "2022-05-30T05:22:59.661088Z",
     "iopub.status.busy": "2022-05-30T05:22:59.660350Z",
     "iopub.status.idle": "2022-05-30T05:22:59.852623Z",
     "shell.execute_reply": "2022-05-30T05:22:59.851382Z"
    },
    "papermill": {
     "duration": 0.206103,
     "end_time": "2022-05-30T05:22:59.855085",
     "exception": false,
     "start_time": "2022-05-30T05:22:59.648982",
     "status": "completed"
    },
    "tags": []
   },
   "outputs": [
    {
     "name": "stderr",
     "output_type": "stream",
     "text": [
      "/opt/conda/lib/python3.7/site-packages/seaborn/_decorators.py:43: FutureWarning: Pass the following variable as a keyword arg: x. From version 0.12, the only valid positional argument will be `data`, and passing other arguments without an explicit keyword will result in an error or misinterpretation.\n",
      "  FutureWarning\n"
     ]
    },
    {
     "data": {
      "text/plain": [
       "<AxesSubplot:xlabel='Survived', ylabel='count'>"
      ]
     },
     "execution_count": 6,
     "metadata": {},
     "output_type": "execute_result"
    },
    {
     "data": {
      "image/png": "[encoded data removed]",
      "text/plain": [
       "<Figure size 432x288 with 1 Axes>"
      ]
     },
     "metadata": {
      "needs_background": "light"
     },
     "output_type": "display_data"
    }
   ],
   "source": [
    "sns.countplot(train_data['Survived'])"
   ]
  },
  {
   "cell_type": "code",
   "execution_count": 7,
   "id": "d17261f5",
   "metadata": {
    "execution": {
     "iopub.execute_input": "2022-05-30T05:22:59.877665Z",
     "iopub.status.busy": "2022-05-30T05:22:59.877233Z",
     "iopub.status.idle": "2022-05-30T05:23:00.015296Z",
     "shell.execute_reply": "2022-05-30T05:23:00.014566Z"
    },
    "papermill": {
     "duration": 0.152379,
     "end_time": "2022-05-30T05:23:00.018056",
     "exception": false,
     "start_time": "2022-05-30T05:22:59.865677",
     "status": "completed"
    },
    "tags": []
   },
   "outputs": [
    {
     "data": {
      "text/plain": [
       "<BarContainer object of 2 artists>"
      ]
     },
     "execution_count": 7,
     "metadata": {},
     "output_type": "execute_result"
    },
    {
     "data": {
      "image/png": "[encoded data removed]",
      "text/plain": [
       "<Figure size 432x288 with 1 Axes>"
      ]
     },
     "metadata": {
      "needs_background": "light"
     },
     "output_type": "display_data"
    }
   ],
   "source": [
    "plt.bar(list(train_data['Survived'].value_counts().keys()),list(train_data['Survived'].value_counts()),width=0.5,color=['r','b'])"
   ]
  },
  {
   "cell_type": "code",
   "execution_count": 8,
   "id": "0ca516c3",
   "metadata": {
    "execution": {
     "iopub.execute_input": "2022-05-30T05:23:00.042171Z",
     "iopub.status.busy": "2022-05-30T05:23:00.041747Z",
     "iopub.status.idle": "2022-05-30T05:23:00.049623Z",
     "shell.execute_reply": "2022-05-30T05:23:00.048823Z"
    },
    "papermill": {
     "duration": 0.022265,
     "end_time": "2022-05-30T05:23:00.051612",
     "exception": false,
     "start_time": "2022-05-30T05:23:00.029347",
     "status": "completed"
    },
    "tags": []
   },
   "outputs": [
    {
     "data": {
      "text/plain": [
       "3    491\n",
       "1    216\n",
       "2    184\n",
       "Name: Pclass, dtype: int64"
      ]
     },
     "execution_count": 8,
     "metadata": {},
     "output_type": "execute_result"
    }
   ],
   "source": [
    "train_data['Pclass'].value_counts()"
   ]
  },
  {
   "cell_type": "code",
   "execution_count": 9,
   "id": "1b802d77",
   "metadata": {
    "execution": {
     "iopub.execute_input": "2022-05-30T05:23:00.075745Z",
     "iopub.status.busy": "2022-05-30T05:23:00.075100Z",
     "iopub.status.idle": "2022-05-30T05:23:00.198838Z",
     "shell.execute_reply": "2022-05-30T05:23:00.197757Z"
    },
    "papermill": {
     "duration": 0.139244,
     "end_time": "2022-05-30T05:23:00.202190",
     "exception": false,
     "start_time": "2022-05-30T05:23:00.062946",
     "status": "completed"
    },
    "tags": []
   },
   "outputs": [
    {
     "data": {
      "text/plain": [
       "<BarContainer object of 3 artists>"
      ]
     },
     "execution_count": 9,
     "metadata": {},
     "output_type": "execute_result"
    },
    {
     "data": {
      "image/png": "[encoded data removed]",
      "text/plain": [
       "<Figure size 432x288 with 1 Axes>"
      ]
     },
     "metadata": {
      "needs_background": "light"
     },
     "output_type": "display_data"
    }
   ],
   "source": [
    "plt.bar(list(train_data['Pclass'].value_counts().keys()),list(train_data['Pclass'].value_counts()),width=0.5,color=['r','g','b'])"
   ]
  },
  {
   "cell_type": "code",
   "execution_count": 10,
   "id": "e75da8f1",
   "metadata": {
    "execution": {
     "iopub.execute_input": "2022-05-30T05:23:00.236328Z",
     "iopub.status.busy": "2022-05-30T05:23:00.235688Z",
     "iopub.status.idle": "2022-05-30T05:23:00.244643Z",
     "shell.execute_reply": "2022-05-30T05:23:00.243560Z"
    },
    "papermill": {
     "duration": 0.024063,
     "end_time": "2022-05-30T05:23:00.247112",
     "exception": false,
     "start_time": "2022-05-30T05:23:00.223049",
     "status": "completed"
    },
    "tags": []
   },
   "outputs": [
    {
     "data": {
      "text/plain": [
       "male      577\n",
       "female    314\n",
       "Name: Sex, dtype: int64"
      ]
     },
     "execution_count": 10,
     "metadata": {},
     "output_type": "execute_result"
    }
   ],
   "source": [
    "train_data['Sex'].value_counts()"
   ]
  },
  {
   "cell_type": "code",
   "execution_count": 11,
   "id": "07da64ff",
   "metadata": {
    "execution": {
     "iopub.execute_input": "2022-05-30T05:23:00.271922Z",
     "iopub.status.busy": "2022-05-30T05:23:00.271017Z",
     "iopub.status.idle": "2022-05-30T05:23:00.425421Z",
     "shell.execute_reply": "2022-05-30T05:23:00.424601Z"
    },
    "papermill": {
     "duration": 0.168962,
     "end_time": "2022-05-30T05:23:00.427539",
     "exception": false,
     "start_time": "2022-05-30T05:23:00.258577",
     "status": "completed"
    },
    "tags": []
   },
   "outputs": [
    {
     "data": {
      "text/plain": [
       "<BarContainer object of 2 artists>"
      ]
     },
     "execution_count": 11,
     "metadata": {},
     "output_type": "execute_result"
    },
    {
     "data": {
      "image/png": "[encoded data removed]",
      "text/plain": [
       "<Figure size 432x288 with 1 Axes>"
      ]
     },
     "metadata": {
      "needs_background": "light"
     },
     "output_type": "display_data"
    }
   ],
   "source": [
    "plt.bar(list(train_data['Sex'].value_counts().keys()),list(train_data['Sex'].value_counts()),width=0.5,color=['darkblue','darkred'])"
   ]
  },
  {
   "cell_type": "code",
   "execution_count": 12,
   "id": "46aaff40",
   "metadata": {
    "execution": {
     "iopub.execute_input": "2022-05-30T05:23:00.453292Z",
     "iopub.status.busy": "2022-05-30T05:23:00.452457Z",
     "iopub.status.idle": "2022-05-30T05:23:00.663934Z",
     "shell.execute_reply": "2022-05-30T05:23:00.663015Z"
    },
    "papermill": {
     "duration": 0.226892,
     "end_time": "2022-05-30T05:23:00.666261",
     "exception": false,
     "start_time": "2022-05-30T05:23:00.439369",
     "status": "completed"
    },
    "tags": []
   },
   "outputs": [
    {
     "data": {
      "image/png": "[encoded data removed]",
      "text/plain": [
       "<Figure size 432x288 with 1 Axes>"
      ]
     },
     "metadata": {
      "needs_background": "light"
     },
     "output_type": "display_data"
    }
   ],
   "source": [
    "plt.hist(train_data['Age'])\n",
    "plt.title(\"Distribution of Age\")\n",
    "plt.xlabel('Age')\n",
    "plt.show()"
   ]
  },
  {
   "cell_type": "raw",
   "id": "54570a54",
   "metadata": {
    "papermill": {
     "duration": 0.011734,
     "end_time": "2022-05-30T05:23:00.690184",
     "exception": false,
     "start_time": "2022-05-30T05:23:00.678450",
     "status": "completed"
    },
    "tags": []
   },
   "source": [
    "building model"
   ]
  },
  {
   "cell_type": "code",
   "execution_count": 13,
   "id": "8c539db6",
   "metadata": {
    "execution": {
     "iopub.execute_input": "2022-05-30T05:23:00.716815Z",
     "iopub.status.busy": "2022-05-30T05:23:00.715426Z",
     "iopub.status.idle": "2022-05-30T05:23:00.723174Z",
     "shell.execute_reply": "2022-05-30T05:23:00.722373Z"
    },
    "papermill": {
     "duration": 0.023012,
     "end_time": "2022-05-30T05:23:00.725142",
     "exception": false,
     "start_time": "2022-05-30T05:23:00.702130",
     "status": "completed"
    },
    "tags": []
   },
   "outputs": [
    {
     "data": {
      "text/plain": [
       "0"
      ]
     },
     "execution_count": 13,
     "metadata": {},
     "output_type": "execute_result"
    }
   ],
   "source": [
    "sum(train_data['Survived'].isnull())"
   ]
  },
  {
   "cell_type": "code",
   "execution_count": 14,
   "id": "5a051194",
   "metadata": {
    "execution": {
     "iopub.execute_input": "2022-05-30T05:23:00.751363Z",
     "iopub.status.busy": "2022-05-30T05:23:00.750657Z",
     "iopub.status.idle": "2022-05-30T05:23:00.757220Z",
     "shell.execute_reply": "2022-05-30T05:23:00.756548Z"
    },
    "papermill": {
     "duration": 0.021876,
     "end_time": "2022-05-30T05:23:00.759019",
     "exception": false,
     "start_time": "2022-05-30T05:23:00.737143",
     "status": "completed"
    },
    "tags": []
   },
   "outputs": [
    {
     "data": {
      "text/plain": [
       "177"
      ]
     },
     "execution_count": 14,
     "metadata": {},
     "output_type": "execute_result"
    }
   ],
   "source": [
    "sum(train_data['Age'].isnull())"
   ]
  },
  {
   "cell_type": "code",
   "execution_count": 15,
   "id": "f1c7bab0",
   "metadata": {
    "execution": {
     "iopub.execute_input": "2022-05-30T05:23:00.785489Z",
     "iopub.status.busy": "2022-05-30T05:23:00.784709Z",
     "iopub.status.idle": "2022-05-30T05:23:00.793310Z",
     "shell.execute_reply": "2022-05-30T05:23:00.792315Z"
    },
    "papermill": {
     "duration": 0.024118,
     "end_time": "2022-05-30T05:23:00.795692",
     "exception": false,
     "start_time": "2022-05-30T05:23:00.771574",
     "status": "completed"
    },
    "tags": []
   },
   "outputs": [],
   "source": [
    "train_data=train_data.dropna()"
   ]
  },
  {
   "cell_type": "code",
   "execution_count": 16,
   "id": "1859ca52",
   "metadata": {
    "execution": {
     "iopub.execute_input": "2022-05-30T05:23:00.822666Z",
     "iopub.status.busy": "2022-05-30T05:23:00.821554Z",
     "iopub.status.idle": "2022-05-30T05:23:00.828654Z",
     "shell.execute_reply": "2022-05-30T05:23:00.827661Z"
    },
    "papermill": {
     "duration": 0.022977,
     "end_time": "2022-05-30T05:23:00.830783",
     "exception": false,
     "start_time": "2022-05-30T05:23:00.807806",
     "status": "completed"
    },
    "tags": []
   },
   "outputs": [
    {
     "data": {
      "text/plain": [
       "0"
      ]
     },
     "execution_count": 16,
     "metadata": {},
     "output_type": "execute_result"
    }
   ],
   "source": [
    "sum(train_data['Age'].isnull())"
   ]
  },
  {
   "cell_type": "code",
   "execution_count": 17,
   "id": "ca991d36",
   "metadata": {
    "execution": {
     "iopub.execute_input": "2022-05-30T05:23:00.857196Z",
     "iopub.status.busy": "2022-05-30T05:23:00.856773Z",
     "iopub.status.idle": "2022-05-30T05:23:00.862822Z",
     "shell.execute_reply": "2022-05-30T05:23:00.861814Z"
    },
    "papermill": {
     "duration": 0.021864,
     "end_time": "2022-05-30T05:23:00.864850",
     "exception": false,
     "start_time": "2022-05-30T05:23:00.842986",
     "status": "completed"
    },
    "tags": []
   },
   "outputs": [],
   "source": [
    "x_train=train_data[['Age']]\n",
    "y_train=train_data[['Survived']]"
   ]
  },
  {
   "cell_type": "code",
   "execution_count": 18,
   "id": "d4cb3442",
   "metadata": {
    "execution": {
     "iopub.execute_input": "2022-05-30T05:23:00.891124Z",
     "iopub.status.busy": "2022-05-30T05:23:00.890454Z",
     "iopub.status.idle": "2022-05-30T05:23:01.262016Z",
     "shell.execute_reply": "2022-05-30T05:23:01.260754Z"
    },
    "papermill": {
     "duration": 0.387473,
     "end_time": "2022-05-30T05:23:01.264541",
     "exception": false,
     "start_time": "2022-05-30T05:23:00.877068",
     "status": "completed"
    },
    "tags": []
   },
   "outputs": [],
   "source": [
    "from sklearn.tree import DecisionTreeClassifier "
   ]
  },
  {
   "cell_type": "code",
   "execution_count": 19,
   "id": "183c1382",
   "metadata": {
    "execution": {
     "iopub.execute_input": "2022-05-30T05:23:01.291069Z",
     "iopub.status.busy": "2022-05-30T05:23:01.290353Z",
     "iopub.status.idle": "2022-05-30T05:23:01.294802Z",
     "shell.execute_reply": "2022-05-30T05:23:01.294151Z"
    },
    "papermill": {
     "duration": 0.019626,
     "end_time": "2022-05-30T05:23:01.296467",
     "exception": false,
     "start_time": "2022-05-30T05:23:01.276841",
     "status": "completed"
    },
    "tags": []
   },
   "outputs": [],
   "source": [
    "dtc=DecisionTreeClassifier()"
   ]
  },
  {
   "cell_type": "code",
   "execution_count": 20,
   "id": "c5bc6987",
   "metadata": {
    "execution": {
     "iopub.execute_input": "2022-05-30T05:23:01.323234Z",
     "iopub.status.busy": "2022-05-30T05:23:01.322346Z",
     "iopub.status.idle": "2022-05-30T05:23:01.335209Z",
     "shell.execute_reply": "2022-05-30T05:23:01.334294Z"
    },
    "papermill": {
     "duration": 0.028452,
     "end_time": "2022-05-30T05:23:01.337206",
     "exception": false,
     "start_time": "2022-05-30T05:23:01.308754",
     "status": "completed"
    },
    "tags": []
   },
   "outputs": [
    {
     "data": {
      "text/plain": [
       "DecisionTreeClassifier()"
      ]
     },
     "execution_count": 20,
     "metadata": {},
     "output_type": "execute_result"
    }
   ],
   "source": [
    "dtc.fit(x_train,y_train)"
   ]
  },
  {
   "cell_type": "code",
   "execution_count": 21,
   "id": "d14e3d90",
   "metadata": {
    "execution": {
     "iopub.execute_input": "2022-05-30T05:23:01.364023Z",
     "iopub.status.busy": "2022-05-30T05:23:01.363424Z",
     "iopub.status.idle": "2022-05-30T05:23:01.370101Z",
     "shell.execute_reply": "2022-05-30T05:23:01.369095Z"
    },
    "papermill": {
     "duration": 0.022144,
     "end_time": "2022-05-30T05:23:01.372052",
     "exception": false,
     "start_time": "2022-05-30T05:23:01.349908",
     "status": "completed"
    },
    "tags": []
   },
   "outputs": [
    {
     "data": {
      "text/plain": [
       "86"
      ]
     },
     "execution_count": 21,
     "metadata": {},
     "output_type": "execute_result"
    }
   ],
   "source": [
    "sum(test_data['Age'].isnull())"
   ]
  },
  {
   "cell_type": "code",
   "execution_count": 22,
   "id": "5cc64ae8",
   "metadata": {
    "execution": {
     "iopub.execute_input": "2022-05-30T05:23:01.399100Z",
     "iopub.status.busy": "2022-05-30T05:23:01.398378Z",
     "iopub.status.idle": "2022-05-30T05:23:01.405526Z",
     "shell.execute_reply": "2022-05-30T05:23:01.404780Z"
    },
    "papermill": {
     "duration": 0.023101,
     "end_time": "2022-05-30T05:23:01.407619",
     "exception": false,
     "start_time": "2022-05-30T05:23:01.384518",
     "status": "completed"
    },
    "tags": []
   },
   "outputs": [],
   "source": [
    "test_data=test_data.dropna()"
   ]
  },
  {
   "cell_type": "code",
   "execution_count": 23,
   "id": "88392dab",
   "metadata": {
    "execution": {
     "iopub.execute_input": "2022-05-30T05:23:01.434279Z",
     "iopub.status.busy": "2022-05-30T05:23:01.433723Z",
     "iopub.status.idle": "2022-05-30T05:23:01.440229Z",
     "shell.execute_reply": "2022-05-30T05:23:01.439374Z"
    },
    "papermill": {
     "duration": 0.022223,
     "end_time": "2022-05-30T05:23:01.442139",
     "exception": false,
     "start_time": "2022-05-30T05:23:01.419916",
     "status": "completed"
    },
    "tags": []
   },
   "outputs": [
    {
     "data": {
      "text/plain": [
       "0"
      ]
     },
     "execution_count": 23,
     "metadata": {},
     "output_type": "execute_result"
    }
   ],
   "source": [
    "sum(test_data['Age'].isnull())"
   ]
  },
  {
   "cell_type": "code",
   "execution_count": 24,
   "id": "b91d047b",
   "metadata": {
    "execution": {
     "iopub.execute_input": "2022-05-30T05:23:01.468562Z",
     "iopub.status.busy": "2022-05-30T05:23:01.468133Z",
     "iopub.status.idle": "2022-05-30T05:23:01.474043Z",
     "shell.execute_reply": "2022-05-30T05:23:01.472870Z"
    },
    "papermill": {
     "duration": 0.021393,
     "end_time": "2022-05-30T05:23:01.475984",
     "exception": false,
     "start_time": "2022-05-30T05:23:01.454591",
     "status": "completed"
    },
    "tags": []
   },
   "outputs": [],
   "source": [
    "x_test=test_data[['Age']]"
   ]
  },
  {
   "cell_type": "code",
   "execution_count": 25,
   "id": "c6793b6f",
   "metadata": {
    "execution": {
     "iopub.execute_input": "2022-05-30T05:23:01.502718Z",
     "iopub.status.busy": "2022-05-30T05:23:01.502119Z",
     "iopub.status.idle": "2022-05-30T05:23:01.508180Z",
     "shell.execute_reply": "2022-05-30T05:23:01.507515Z"
    },
    "papermill": {
     "duration": 0.021724,
     "end_time": "2022-05-30T05:23:01.510143",
     "exception": false,
     "start_time": "2022-05-30T05:23:01.488419",
     "status": "completed"
    },
    "tags": []
   },
   "outputs": [],
   "source": [
    "y_pred=dtc.predict(x_test)"
   ]
  },
  {
   "cell_type": "code",
   "execution_count": 26,
   "id": "424d25b6",
   "metadata": {
    "execution": {
     "iopub.execute_input": "2022-05-30T05:23:01.537123Z",
     "iopub.status.busy": "2022-05-30T05:23:01.536545Z",
     "iopub.status.idle": "2022-05-30T05:23:01.543302Z",
     "shell.execute_reply": "2022-05-30T05:23:01.542336Z"
    },
    "papermill": {
     "duration": 0.02279,
     "end_time": "2022-05-30T05:23:01.545344",
     "exception": false,
     "start_time": "2022-05-30T05:23:01.522554",
     "status": "completed"
    },
    "tags": []
   },
   "outputs": [
    {
     "data": {
      "text/plain": [
       "array([1, 0, 1, 1, 1, 1, 0, 0, 1, 1, 1, 0, 1, 1, 1, 1, 1, 1, 1, 0, 0, 1,\n",
       "       1, 1, 1, 1, 1, 1, 1, 1, 1, 0, 1, 0, 1, 1, 0, 1, 0, 0, 1, 1, 1, 0,\n",
       "       1, 1, 0, 1, 1, 0, 1, 0, 1, 1, 0, 1, 1, 1, 0, 1, 0, 0, 0, 0, 1, 1,\n",
       "       1, 1, 1, 0, 0, 1, 0, 1, 1, 0, 0, 1, 1, 1, 1, 1, 1, 0, 0, 0, 1])"
      ]
     },
     "execution_count": 26,
     "metadata": {},
     "output_type": "execute_result"
    }
   ],
   "source": [
    "y_pred"
   ]
  },
  {
   "cell_type": "code",
   "execution_count": 27,
   "id": "99c6e086",
   "metadata": {
    "execution": {
     "iopub.execute_input": "2022-05-30T05:23:01.572282Z",
     "iopub.status.busy": "2022-05-30T05:23:01.571610Z",
     "iopub.status.idle": "2022-05-30T05:23:01.641032Z",
     "shell.execute_reply": "2022-05-30T05:23:01.639816Z"
    },
    "papermill": {
     "duration": 0.085435,
     "end_time": "2022-05-30T05:23:01.643346",
     "exception": false,
     "start_time": "2022-05-30T05:23:01.557911",
     "status": "completed"
    },
    "tags": []
   },
   "outputs": [],
   "source": [
    "from sklearn.ensemble import RandomForestClassifier"
   ]
  },
  {
   "cell_type": "code",
   "execution_count": 28,
   "id": "d2b4e5b7",
   "metadata": {
    "execution": {
     "iopub.execute_input": "2022-05-30T05:23:01.670995Z",
     "iopub.status.busy": "2022-05-30T05:23:01.670398Z",
     "iopub.status.idle": "2022-05-30T05:23:01.675024Z",
     "shell.execute_reply": "2022-05-30T05:23:01.674342Z"
    },
    "papermill": {
     "duration": 0.020552,
     "end_time": "2022-05-30T05:23:01.676974",
     "exception": false,
     "start_time": "2022-05-30T05:23:01.656422",
     "status": "completed"
    },
    "tags": []
   },
   "outputs": [],
   "source": [
    "rf=RandomForestClassifier(random_state=0)"
   ]
  },
  {
   "cell_type": "code",
   "execution_count": 29,
   "id": "bd2a2085",
   "metadata": {
    "execution": {
     "iopub.execute_input": "2022-05-30T05:23:01.704107Z",
     "iopub.status.busy": "2022-05-30T05:23:01.703563Z",
     "iopub.status.idle": "2022-05-30T05:23:01.887419Z",
     "shell.execute_reply": "2022-05-30T05:23:01.886251Z"
    },
    "papermill": {
     "duration": 0.20071,
     "end_time": "2022-05-30T05:23:01.890226",
     "exception": false,
     "start_time": "2022-05-30T05:23:01.689516",
     "status": "completed"
    },
    "tags": []
   },
   "outputs": [
    {
     "name": "stderr",
     "output_type": "stream",
     "text": [
      "/opt/conda/lib/python3.7/site-packages/ipykernel_launcher.py:1: DataConversionWarning: A column-vector y was passed when a 1d array was expected. Please change the shape of y to (n_samples,), for example using ravel().\n",
      "  \"\"\"Entry point for launching an IPython kernel.\n"
     ]
    },
    {
     "data": {
      "text/plain": [
       "RandomForestClassifier(random_state=0)"
      ]
     },
     "execution_count": 29,
     "metadata": {},
     "output_type": "execute_result"
    }
   ],
   "source": [
    "rf.fit(x_train,y_train)"
   ]
  },
  {
   "cell_type": "code",
   "execution_count": 30,
   "id": "56114c25",
   "metadata": {
    "execution": {
     "iopub.execute_input": "2022-05-30T05:23:01.917830Z",
     "iopub.status.busy": "2022-05-30T05:23:01.917404Z",
     "iopub.status.idle": "2022-05-30T05:23:01.937959Z",
     "shell.execute_reply": "2022-05-30T05:23:01.936850Z"
    },
    "papermill": {
     "duration": 0.037554,
     "end_time": "2022-05-30T05:23:01.940421",
     "exception": false,
     "start_time": "2022-05-30T05:23:01.902867",
     "status": "completed"
    },
    "tags": []
   },
   "outputs": [],
   "source": [
    "y_pred=rf.predict(x_test)"
   ]
  },
  {
   "cell_type": "code",
   "execution_count": 31,
   "id": "9fd3cd16",
   "metadata": {
    "execution": {
     "iopub.execute_input": "2022-05-30T05:23:01.967881Z",
     "iopub.status.busy": "2022-05-30T05:23:01.967154Z",
     "iopub.status.idle": "2022-05-30T05:23:01.973824Z",
     "shell.execute_reply": "2022-05-30T05:23:01.972845Z"
    },
    "papermill": {
     "duration": 0.02263,
     "end_time": "2022-05-30T05:23:01.975823",
     "exception": false,
     "start_time": "2022-05-30T05:23:01.953193",
     "status": "completed"
    },
    "tags": []
   },
   "outputs": [
    {
     "data": {
      "text/plain": [
       "array([1, 0, 1, 1, 1, 1, 0, 0, 1, 1, 1, 1, 1, 1, 1, 1, 1, 1, 1, 0, 0, 1,\n",
       "       1, 1, 1, 1, 1, 1, 1, 1, 1, 0, 1, 0, 1, 1, 0, 1, 0, 0, 1, 1, 1, 0,\n",
       "       1, 1, 0, 1, 1, 0, 1, 0, 1, 1, 0, 1, 1, 1, 0, 1, 0, 0, 0, 1, 1, 1,\n",
       "       1, 1, 1, 0, 0, 1, 1, 1, 1, 0, 0, 1, 1, 1, 1, 1, 1, 1, 0, 0, 1])"
      ]
     },
     "execution_count": 31,
     "metadata": {},
     "output_type": "execute_result"
    }
   ],
   "source": [
    "y_pred"
   ]
  },
  {
   "cell_type": "code",
   "execution_count": null,
   "id": "81986924",
   "metadata": {
    "papermill": {
     "duration": 0.012434,
     "end_time": "2022-05-30T05:23:02.001021",
     "exception": false,
     "start_time": "2022-05-30T05:23:01.988587",
     "status": "completed"
    },
    "tags": []
   },
   "outputs": [],
   "source": []
  }
 ],
 "metadata": {
  "kernelspec": {
   "display_name": "Python 3",
   "language": "python",
   "name": "python3"
  },
  "language_info": {
   "codemirror_mode": {
    "name": "ipython",
    "version": 3
   },
   "file_extension": ".py",
   "mimetype": "text/x-python",
   "name": "python",
   "nbconvert_exporter": "python",
   "pygments_lexer": "ipython3",
   "version": "3.7.12"
  },
  "papermill": {
   "default_parameters": {},
   "duration": 14.617494,
   "end_time": "2022-05-30T05:23:02.835346",
   "environment_variables": {},
   "exception": null,
   "input_path": "__notebook__.ipynb",
   "output_path": "__notebook__.ipynb",
   "parameters": {},
   "start_time": "2022-05-30T05:22:48.217852",
   "version": "2.3.4"
  }
 },
 "nbformat": 4,
 "nbformat_minor": 5
}
